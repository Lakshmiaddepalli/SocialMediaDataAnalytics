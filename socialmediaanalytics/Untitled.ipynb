{
 "cells": [
  {
   "cell_type": "code",
   "execution_count": 1,
   "metadata": {
    "collapsed": true
   },
   "outputs": [],
   "source": [
    "import matplotlib.pyplot as plt"
   ]
  },
  {
   "cell_type": "code",
   "execution_count": 2,
   "metadata": {
    "collapsed": true
   },
   "outputs": [],
   "source": [
    "import pandas as pd"
   ]
  },
  {
   "cell_type": "code",
   "execution_count": 3,
   "metadata": {
    "collapsed": true
   },
   "outputs": [],
   "source": [
    "twitter_data = pd.read_csv('result.csv')"
   ]
  },
  {
   "cell_type": "code",
   "execution_count": 4,
   "metadata": {
    "collapsed": false
   },
   "outputs": [
    {
     "name": "stdout",
     "output_type": "stream",
     "text": [
      "              author id     retwc  followers   friends  polarity  subjectivity\n",
      "author id      1.000000 -0.151132  -0.184372 -0.055724  0.293147      0.249420\n",
      "retwc         -0.151132  1.000000   0.275332 -0.132939 -0.164926      0.094127\n",
      "followers     -0.184372  0.275332   1.000000 -0.034988 -0.083294     -0.016949\n",
      "friends       -0.055724 -0.132939  -0.034988  1.000000  0.116612     -0.050606\n",
      "polarity       0.293147 -0.164926  -0.083294  0.116612  1.000000      0.569953\n",
      "subjectivity   0.249420  0.094127  -0.016949 -0.050606  0.569953      1.000000\n"
     ]
    }
   ],
   "source": [
    "print(twitter_data.corr())"
   ]
  },
  {
   "cell_type": "code",
   "execution_count": 5,
   "metadata": {
    "collapsed": false
   },
   "outputs": [
    {
     "data": {
      "text/plain": [
       "<matplotlib.collections.PathCollection at 0x1087cb912e8>"
      ]
     },
     "execution_count": 5,
     "metadata": {},
     "output_type": "execute_result"
    }
   ],
   "source": [
    "plt.scatter(twitter_data.followers,twitter_data.friends)"
   ]
  },
  {
   "cell_type": "code",
   "execution_count": 7,
   "metadata": {
    "collapsed": false
   },
   "outputs": [
    {
     "data": {
      "text/plain": [
       "<matplotlib.collections.PathCollection at 0x10800582d30>"
      ]
     },
     "execution_count": 7,
     "metadata": {},
     "output_type": "execute_result"
    }
   ],
   "source": [
    "plt.scatter(twitter_data.followers,twitter_data.subjectivity)"
   ]
  },
  {
   "cell_type": "code",
   "execution_count": 8,
   "metadata": {
    "collapsed": true
   },
   "outputs": [],
   "source": [
    "twitter_data_subjective = twitter_data[twitter_data['subjectivity']>0.5]"
   ]
  },
  {
   "cell_type": "code",
   "execution_count": 9,
   "metadata": {
    "collapsed": false
   },
   "outputs": [
    {
     "name": "stdout",
     "output_type": "stream",
     "text": [
      "              author id     retwc  followers   friends  polarity  subjectivity\n",
      "author id      1.000000 -0.562886  -0.428930 -0.532318  0.086496     -0.209658\n",
      "retwc         -0.562886  1.000000  -0.095940  0.395957 -0.361479      0.064435\n",
      "followers     -0.428930 -0.095940   1.000000  0.485015  0.765716      0.698942\n",
      "friends       -0.532318  0.395957   0.485015  1.000000 -0.063587      0.586280\n",
      "polarity       0.086496 -0.361479   0.765716 -0.063587  1.000000      0.532915\n",
      "subjectivity  -0.209658  0.064435   0.698942  0.586280  0.532915      1.000000\n"
     ]
    }
   ],
   "source": [
    "print(twitter_data_subjective.corr())"
   ]
  },
  {
   "cell_type": "code",
   "execution_count": null,
   "metadata": {
    "collapsed": true
   },
   "outputs": [],
   "source": []
  }
 ],
 "metadata": {
  "kernelspec": {
   "display_name": "Python [conda root]",
   "language": "python",
   "name": "conda-root-py"
  },
  "language_info": {
   "codemirror_mode": {
    "name": "ipython",
    "version": 3
   },
   "file_extension": ".py",
   "mimetype": "text/x-python",
   "name": "python",
   "nbconvert_exporter": "python",
   "pygments_lexer": "ipython3",
   "version": "3.5.2"
  }
 },
 "nbformat": 4,
 "nbformat_minor": 1
}
