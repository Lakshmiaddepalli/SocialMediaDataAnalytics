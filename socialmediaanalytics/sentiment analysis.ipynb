{
 "cells": [
  {
   "cell_type": "code",
   "execution_count": 2,
   "metadata": {
    "collapsed": false
   },
   "outputs": [],
   "source": [
    "from textblob import TextBlob\n",
    "import csv\n",
    "import tweepy\n",
    "import unidecode\n",
    "\n",
    "# AUTHENTICATION (OAuth)\n",
    "f = open('auth.k','r')\n",
    "ak = f.readlines()\n",
    "f.close()\n",
    "auth1 = tweepy.auth.OAuthHandler(ak[0].replace(\"\\n\",\"\"), ak[1].replace(\"\\n\",\"\"))\n",
    "auth1.set_access_token(ak[2].replace(\"\\n\",\"\"), ak[3].replace(\"\\n\",\"\"))\n",
    "api = tweepy.API(auth1)\n",
    "\n",
    "# Tweeter search with keyword\n",
    "target_num = 50\n",
    "query = \"olympics\"\n",
    "\n",
    "csvFile = open('result.csv','w')\n",
    "csvWriter = csv.writer(csvFile)\n",
    "csvWriter.writerow([\"username\",\"author id\",\"created\", \"text\", \"retwc\", \"hashtag\", \"followers\", \"friends\",\"polarity\",\"subjectivity\"])\n",
    "counter = 0\n",
    "\n",
    "for tweet in tweepy.Cursor(api.search, q = query, lang = \"en\", result_type = \"popular\", count = target_num).items():\n",
    "    created = tweet.created_at\n",
    "    text = tweet.text\n",
    "    text = unidecode.unidecode(text) \n",
    "    retwc = tweet.retweet_count\n",
    "    try:\n",
    "        hashtag = tweet.entities[u'hashtags'][0][u'text'] #hashtags used\n",
    "    except:\n",
    "        hashtag = \"None\"\n",
    "    username  = tweet.author.name            #author/user name\n",
    "    authorid  = tweet.author.id              #author/user ID#\n",
    "    followers = tweet.author.followers_count #number of author/user followers (inlink)\n",
    "    friends = tweet.author.friends_count     #number of author/user friends (outlink)\n",
    "\n",
    "    text_blob = TextBlob(text)\n",
    "    polarity = text_blob.polarity\n",
    "    subjectivity = text_blob.subjectivity\n",
    "    csvWriter.writerow([username, authorid, created, text, retwc, hashtag, followers, friends, polarity, subjectivity])\n",
    "\n",
    "    counter = counter + 1\n",
    "    if (counter == target_num):\n",
    "        break\n",
    "\n",
    "csvFile.close()\n"
   ]
  },
  {
   "cell_type": "code",
   "execution_count": null,
   "metadata": {
    "collapsed": true
   },
   "outputs": [],
   "source": []
  }
 ],
 "metadata": {
  "anaconda-cloud": {},
  "kernelspec": {
   "display_name": "Python [conda root]",
   "language": "python",
   "name": "conda-root-py"
  },
  "language_info": {
   "codemirror_mode": {
    "name": "ipython",
    "version": 3
   },
   "file_extension": ".py",
   "mimetype": "text/x-python",
   "name": "python",
   "nbconvert_exporter": "python",
   "pygments_lexer": "ipython3",
   "version": "3.5.2"
  }
 },
 "nbformat": 4,
 "nbformat_minor": 1
}
